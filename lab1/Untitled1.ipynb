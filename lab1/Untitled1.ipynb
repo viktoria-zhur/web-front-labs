{
  "nbformat": 4,
  "nbformat_minor": 0,
  "metadata": {
    "colab": {
      "provenance": [],
      "authorship_tag": "ABX9TyMPGhlhZcbpq6L0vns80TTW",
      "include_colab_link": true
    },
    "kernelspec": {
      "name": "python3",
      "display_name": "Python 3"
    },
    "language_info": {
      "name": "python"
    }
  },
  "cells": [
    {
      "cell_type": "markdown",
      "metadata": {
        "id": "view-in-github",
        "colab_type": "text"
      },
      "source": [
        "<a href=\"https://colab.research.google.com/github/viktoria-zhur/web-front-labs/blob/main/Untitled1.ipynb\" target=\"_parent\"><img src=\"https://colab.research.google.com/assets/colab-badge.svg\" alt=\"Open In Colab\"/></a>"
      ]
    },
    {
      "cell_type": "markdown",
      "source": [
        "2. Воспользовавшись инструментами библиотеки NumPy создать структуру данных Series:"
      ],
      "metadata": {
        "id": "J15ZRQr9bWi5"
      }
    },
    {
      "cell_type": "code",
      "source": [
        "# Импортируем необходимые библиотеки\n",
        "import pandas as pd\n",
        "import numpy as np\n",
        "\n",
        "# Создаем объект Series с использованием Pandas\n",
        "data = [10, 20, 30, 40, 50]\n",
        "index = ['a', 'b', 'c', 'd', 'e']\n",
        "series = pd.Series(data, index=index)\n",
        "\n",
        "# Выводим объект Series\n",
        "print(series)"
      ],
      "metadata": {
        "colab": {
          "base_uri": "https://localhost:8080/"
        },
        "id": "LX9ptYYlbZvX",
        "outputId": "ba37f24e-722c-49ae-90de-afaef9d07cd2"
      },
      "execution_count": 2,
      "outputs": [
        {
          "output_type": "stream",
          "name": "stdout",
          "text": [
            "a    10\n",
            "b    20\n",
            "c    30\n",
            "d    40\n",
            "e    50\n",
            "dtype: int64\n"
          ]
        }
      ]
    },
    {
      "cell_type": "markdown",
      "source": [
        "3. Любым способом создать структуру данных DataFrame"
      ],
      "metadata": {
        "id": "0p5gEiSrbv1B"
      }
    },
    {
      "cell_type": "code",
      "source": [
        "import pandas as pd\n",
        "\n",
        "# initialize data of lists.\n",
        "data = {'Name': ['Vika', 'Alice', 'Kris', 'Alena'],\n",
        "        'Age': [20, 21, 19, 18]}\n",
        "\n",
        "# Create DataFrame\n",
        "df = pd.DataFrame(data)\n",
        "\n",
        "print(df)"
      ],
      "metadata": {
        "colab": {
          "base_uri": "https://localhost:8080/"
        },
        "id": "BtCqleZ-bzwh",
        "outputId": "e384d128-ff60-41ec-e513-8406e7180aab"
      },
      "execution_count": 3,
      "outputs": [
        {
          "output_type": "stream",
          "name": "stdout",
          "text": [
            "    Name  Age\n",
            "0   Vika   20\n",
            "1  Alice   21\n",
            "2   Kris   19\n",
            "3  Alena   18\n"
          ]
        }
      ]
    },
    {
      "cell_type": "markdown",
      "source": [
        "4. Согласно номеру своего варианта выбрать из табл. 3.1 заданный CSV-файл. Выполнить ручную предобработку данных полученного файла. Для этого открыть файл в любом текстовом редакторе и расставить разделители согласно формата CSV"
      ],
      "metadata": {
        "id": "U4yf1fJBb2Ik"
      }
    },
    {
      "cell_type": "code",
      "source": [
        "import pandas as pd\n",
        "data = pd.DataFrame({\n",
        "    'CustomerID': ['201'],\n",
        "    'Genre': ['Male'],\n",
        "    'Age': [17],\n",
        "    'Annual Income (k$)': [28],\n",
        "    'Spending Score (1-100)': [46]\n",
        "})\n",
        "\n",
        "\n",
        "#создаю датафрейм из этого словаря\n",
        "df = pd.DataFrame(data)\n",
        "\n",
        "#записываю DataFrame в csv файл\n",
        "df.to_csv('NewRecord.csv', index=False)\n",
        "\n",
        "#вывожу сообщение что файл сохранен\n",
        "print(\"Данные загружены в NewRecord.csv\")"
      ],
      "metadata": {
        "colab": {
          "base_uri": "https://localhost:8080/"
        },
        "id": "F_eRusVdb5GZ",
        "outputId": "8985a620-05b2-497f-f7c0-f5a803c6e9f9"
      },
      "execution_count": 16,
      "outputs": [
        {
          "output_type": "stream",
          "name": "stdout",
          "text": [
            "Данные загружены в NewRecord.csv\n"
          ]
        }
      ]
    },
    {
      "cell_type": "markdown",
      "source": [
        "5. Загрузить данные из заданного файла CSV в структуру DataFrame и присоединить к ней данные файла NewRecord.csv, созданного при выполнения п.5 задания (concat)\n",
        "\n"
      ],
      "metadata": {
        "id": "XEucDAnrcAaU"
      }
    },
    {
      "cell_type": "code",
      "source": [
        "#импортировала библиотеку\n",
        "import pandas as pd\n",
        "\n",
        "# Загрузка данных из основного CSV-файла\n",
        "df = pd.read_csv('Mall_Customers (1).csv')\n",
        "\n",
        "# Загрузка данных из NewRecord.csv\n",
        "new_record_df = pd.read_csv('NewRecord.csv')\n",
        "\n",
        "# Присоединение данных из NewRecord.csv к основному DataFrame\n",
        "df = pd.concat([df, new_record_df], ignore_index=True)\n",
        "\n",
        "#Сохранение объединёного файла:\n",
        "df.to_csv('Combined_Mall_Customers.csv', index=False)\n",
        "\n",
        "# Вывод объединенного DataFrame\n",
        "print(df)"
      ],
      "metadata": {
        "colab": {
          "base_uri": "https://localhost:8080/"
        },
        "id": "6E4wglMKcBb6",
        "outputId": "9ed96620-0569-46ef-b250-a7d47348db61"
      },
      "execution_count": 18,
      "outputs": [
        {
          "output_type": "stream",
          "name": "stdout",
          "text": [
            "     CustomerID   Genre  Age  Annual Income (k$)  Spending Score (1-100)\n",
            "0             1    Male   19                  15                      39\n",
            "1             2    Male   21                  15                      81\n",
            "2             3  Female   20                  16                       6\n",
            "3             4  Female   23                  16                      77\n",
            "4             5  Female   31                  17                      40\n",
            "..          ...     ...  ...                 ...                     ...\n",
            "196         197  Female   45                 126                      28\n",
            "197         198    Male   32                 126                      74\n",
            "198         199    Male   32                 137                      18\n",
            "199         200    Male   30                 137                      83\n",
            "200         201    Male   17                  28                      46\n",
            "\n",
            "[201 rows x 5 columns]\n"
          ]
        }
      ]
    },
    {
      "cell_type": "markdown",
      "source": [
        "7.2 Вывести 10 случайных строк"
      ],
      "metadata": {
        "id": "S_lSPiNjgmHw"
      }
    },
    {
      "cell_type": "markdown",
      "source": [
        "7.2 Вывести 10 случайных строк"
      ],
      "metadata": {
        "id": "gbF2rB4OgweZ"
      }
    },
    {
      "cell_type": "code",
      "source": [
        "import pandas as pd\n",
        "# Загрузка данных из основного CSV-файла\n",
        "df = pd.read_csv('Combined_Mall_Customers.csv')\n",
        "# Вывод 10 случайных строк из объединенного DataFrame\n",
        "random_rows = df.sample(n=10)\n",
        "\n",
        "# Вывод случайных строк\n",
        "print(random_rows)"
      ],
      "metadata": {
        "colab": {
          "base_uri": "https://localhost:8080/"
        },
        "id": "Sur0QljXgp2v",
        "outputId": "88a8ea30-f25f-4d48-9b46-d60bdce07733"
      },
      "execution_count": 19,
      "outputs": [
        {
          "output_type": "stream",
          "name": "stdout",
          "text": [
            "     CustomerID   Genre  Age  Annual Income (k$)  Spending Score (1-100)\n",
            "190         191  Female   34                 103                      23\n",
            "37           38  Female   30                  34                      73\n",
            "65           66    Male   18                  48                      59\n",
            "17           18    Male   20                  21                      66\n",
            "5             6  Female   22                  17                      76\n",
            "155         156  Female   27                  78                      89\n",
            "109         110    Male   66                  63                      48\n",
            "178         179    Male   59                  93                      14\n",
            "186         187  Female   54                 101                      24\n",
            "1             2    Male   21                  15                      81\n"
          ]
        }
      ]
    },
    {
      "cell_type": "markdown",
      "source": [
        "7.4 вывести первые 5 строк датасета"
      ],
      "metadata": {
        "id": "O5MNGRz1g5SK"
      }
    },
    {
      "cell_type": "code",
      "source": [
        "# Загрузка данных из основного CSV-файла\n",
        "df = pd.read_csv('Combined_Mall_Customers.csv')\n",
        "#Вывод первых 5 строк:\n",
        "first_five_rows = df.head()\n",
        "#Вывод первых 5 строк:\n",
        "print(first_five_rows)\n"
      ],
      "metadata": {
        "colab": {
          "base_uri": "https://localhost:8080/"
        },
        "id": "33Rqcu2ChEF6",
        "outputId": "f90cb009-e733-41a0-edcd-5fba2545e569"
      },
      "execution_count": 20,
      "outputs": [
        {
          "output_type": "stream",
          "name": "stdout",
          "text": [
            "   CustomerID   Genre  Age  Annual Income (k$)  Spending Score (1-100)\n",
            "0           1    Male   19                  15                      39\n",
            "1           2    Male   21                  15                      81\n",
            "2           3  Female   20                  16                       6\n",
            "3           4  Female   23                  16                      77\n",
            "4           5  Female   31                  17                      40\n"
          ]
        }
      ]
    },
    {
      "cell_type": "markdown",
      "source": [
        "7.5 Вывести последние 5 строк датасета"
      ],
      "metadata": {
        "id": "HElkhgAuhHGB"
      }
    },
    {
      "cell_type": "code",
      "source": [
        "# Загрузка данных из основного CSV-файла\n",
        "df = pd.read_csv('Combined_Mall_Customers.csv')\n",
        "#Вывод последних 5 строк:\n",
        "last_five_rows = df.tail()\n",
        "print (last_five_rows)"
      ],
      "metadata": {
        "colab": {
          "base_uri": "https://localhost:8080/"
        },
        "id": "qP1Y2ZDGhW6k",
        "outputId": "6f2258ea-364c-458b-8ab6-f11ed3ab3c19"
      },
      "execution_count": 21,
      "outputs": [
        {
          "output_type": "stream",
          "name": "stdout",
          "text": [
            "     CustomerID   Genre  Age  Annual Income (k$)  Spending Score (1-100)\n",
            "196         197  Female   45                 126                      28\n",
            "197         198    Male   32                 126                      74\n",
            "198         199    Male   32                 137                      18\n",
            "199         200    Male   30                 137                      83\n",
            "200         201    Male   17                  28                      46\n"
          ]
        }
      ]
    },
    {
      "cell_type": "markdown",
      "source": [
        "7.6 Вывести общую информацию о датасете"
      ],
      "metadata": {
        "id": "BFO6EOl7hatU"
      }
    },
    {
      "cell_type": "code",
      "source": [
        "# Загрузка данных из основного CSV-файла\n",
        "df = pd.read_csv('Combined_Mall_Customers.csv')\n",
        "df.info()"
      ],
      "metadata": {
        "colab": {
          "base_uri": "https://localhost:8080/"
        },
        "id": "l1kADo84heSx",
        "outputId": "6749420c-d9e7-468a-f642-5de0c8917750"
      },
      "execution_count": 22,
      "outputs": [
        {
          "output_type": "stream",
          "name": "stdout",
          "text": [
            "<class 'pandas.core.frame.DataFrame'>\n",
            "RangeIndex: 201 entries, 0 to 200\n",
            "Data columns (total 5 columns):\n",
            " #   Column                  Non-Null Count  Dtype \n",
            "---  ------                  --------------  ----- \n",
            " 0   CustomerID              201 non-null    int64 \n",
            " 1   Genre                   201 non-null    object\n",
            " 2   Age                     201 non-null    int64 \n",
            " 3   Annual Income (k$)      201 non-null    int64 \n",
            " 4   Spending Score (1-100)  201 non-null    int64 \n",
            "dtypes: int64(4), object(1)\n",
            "memory usage: 8.0+ KB\n"
          ]
        }
      ]
    },
    {
      "cell_type": "markdown",
      "source": [
        "7.7 Вывести размер датасета"
      ],
      "metadata": {
        "id": "P8OC-fQrhhml"
      }
    },
    {
      "cell_type": "code",
      "source": [
        "# Загрузка данных из основного CSV-файла\n",
        "df = pd.read_csv('Combined_Mall_Customers.csv')\n",
        "# Вывод размера DataFrame\n",
        "dataset_size = df.shape\n",
        "# Вывод размера\n",
        "print(f\"Количество строк: {dataset_size[0]}, Количество столбцов: {dataset_size[1]}\")\n"
      ],
      "metadata": {
        "colab": {
          "base_uri": "https://localhost:8080/"
        },
        "id": "Fyh6nLZPhlhV",
        "outputId": "402f4d72-0e17-40f0-af80-b6fa2ded9f98"
      },
      "execution_count": 23,
      "outputs": [
        {
          "output_type": "stream",
          "name": "stdout",
          "text": [
            "Количество строк: 201, Количество столбцов: 5\n"
          ]
        }
      ]
    },
    {
      "cell_type": "markdown",
      "source": [
        "7.8 Вывести названия столбцов датасета"
      ],
      "metadata": {
        "id": "APdvHsDUhpdk"
      }
    },
    {
      "cell_type": "code",
      "source": [
        "# Загрузка данных из основного CSV-файла\n",
        "df = pd.read_csv('Combined_Mall_Customers.csv')\n",
        "# Вывод названий столбцов датасета\n",
        "columnnames = df.columns\n",
        "print (\"Названия столбцов:\", columnnames)"
      ],
      "metadata": {
        "colab": {
          "base_uri": "https://localhost:8080/"
        },
        "id": "0E84mMdRhsGQ",
        "outputId": "ce361f46-b28f-4806-e71a-09afe79c1af1"
      },
      "execution_count": 24,
      "outputs": [
        {
          "output_type": "stream",
          "name": "stdout",
          "text": [
            "Названия столбцов: Index(['CustomerID', 'Genre', 'Age', 'Annual Income (k$)',\n",
            "       'Spending Score (1-100)'],\n",
            "      dtype='object')\n"
          ]
        }
      ]
    },
    {
      "cell_type": "markdown",
      "source": [
        "7.9 Вывести типы датасета по столбцам"
      ],
      "metadata": {
        "id": "KkQcvr8Whvtb"
      }
    },
    {
      "cell_type": "code",
      "source": [
        "# Загрузка данных из основного CSV-файла\n",
        "df = pd.read_csv('Combined_Mall_Customers.csv')\n",
        "#Вывод типов данных датасета\n",
        "data_types = df.dtypes\n",
        "print(\"Типы данных по столбцам:\")\n",
        "print(data_types)"
      ],
      "metadata": {
        "colab": {
          "base_uri": "https://localhost:8080/"
        },
        "id": "GxQh7_iKh5tb",
        "outputId": "8e75abb9-c041-4794-c3ee-86fe45786e8e"
      },
      "execution_count": 25,
      "outputs": [
        {
          "output_type": "stream",
          "name": "stdout",
          "text": [
            "Типы данных по столбцам:\n",
            "CustomerID                 int64\n",
            "Genre                     object\n",
            "Age                        int64\n",
            "Annual Income (k$)         int64\n",
            "Spending Score (1-100)     int64\n",
            "dtype: object\n"
          ]
        }
      ]
    },
    {
      "cell_type": "markdown",
      "source": [
        "7.10 Вывести кол-во уникальных значений датасета:"
      ],
      "metadata": {
        "id": "IxKR_jZah-CY"
      }
    },
    {
      "cell_type": "code",
      "source": [
        "# Загрузка данных из основного CSV-файла\n",
        "df = pd.read_csv('Combined_Mall_Customers.csv')\n",
        "#Вывод униальных значений:\n",
        "unique_counts = df.nunique()\n",
        "print (\"Кол-во уник значений:\")\n",
        "print (unique_counts)"
      ],
      "metadata": {
        "colab": {
          "base_uri": "https://localhost:8080/"
        },
        "id": "Q1Njt1XIiBRj",
        "outputId": "51c07a79-0264-4081-ae4a-66ebea120c04"
      },
      "execution_count": 26,
      "outputs": [
        {
          "output_type": "stream",
          "name": "stdout",
          "text": [
            "Кол-во уник значений:\n",
            "CustomerID                201\n",
            "Genre                       2\n",
            "Age                        52\n",
            "Annual Income (k$)         64\n",
            "Spending Score (1-100)     84\n",
            "dtype: int64\n"
          ]
        }
      ]
    },
    {
      "cell_type": "markdown",
      "source": [
        "8.1 Вывести кол-во пропущенных значений"
      ],
      "metadata": {
        "id": "2CeGtCrDiEUc"
      }
    },
    {
      "cell_type": "code",
      "source": [
        "# Загрузка данных из основного CSV-файла\n",
        "df = pd.read_csv('Combined_Mall_Customers.csv')\n",
        "missing_values_count = df.isnull().sum()\n",
        "# Вывод количества пропущенных значений print(\"Количество пропущенных значений в каждом столбце:\")\n",
        "print(missing_values_count)"
      ],
      "metadata": {
        "colab": {
          "base_uri": "https://localhost:8080/"
        },
        "id": "QOJ_ZdkliNK4",
        "outputId": "0be20489-4670-410e-888b-3a10b86d4dad"
      },
      "execution_count": 27,
      "outputs": [
        {
          "output_type": "stream",
          "name": "stdout",
          "text": [
            "CustomerID                0\n",
            "Genre                     0\n",
            "Age                       0\n",
            "Annual Income (k$)        0\n",
            "Spending Score (1-100)    0\n",
            "dtype: int64\n"
          ]
        }
      ]
    },
    {
      "cell_type": "markdown",
      "source": [
        "8.2 выделить категориальные данные:"
      ],
      "metadata": {
        "id": "WH4Z2mjciQIE"
      }
    },
    {
      "cell_type": "code",
      "source": [
        "# Загрузка данных из основного CSV-файла\n",
        "df = pd.read_csv('Combined_Mall_Customers.csv')\n",
        "# Вывод количества пропущенных значений\n",
        "print(\"Количество пропущенных значений в каждом столбце:\")\n",
        "print(missing_values_count)\n",
        "\n",
        "# Выделение категориальных данных\n",
        "categorical_columns = df.select_dtypes(include=['object'])\n",
        "\n",
        "# Вывод категориальных данных\n",
        "print(\"\\nКатегориальные данные:\")\n",
        "print(categorical_columns)"
      ],
      "metadata": {
        "colab": {
          "base_uri": "https://localhost:8080/"
        },
        "id": "gu33ueEeiYZo",
        "outputId": "50e7870a-3c95-4743-cade-dde55fd91cc8"
      },
      "execution_count": 28,
      "outputs": [
        {
          "output_type": "stream",
          "name": "stdout",
          "text": [
            "Количество пропущенных значений в каждом столбце:\n",
            "CustomerID                0\n",
            "Genre                     0\n",
            "Age                       0\n",
            "Annual Income (k$)        0\n",
            "Spending Score (1-100)    0\n",
            "dtype: int64\n",
            "\n",
            "Категориальные данные:\n",
            "      Genre\n",
            "0      Male\n",
            "1      Male\n",
            "2    Female\n",
            "3    Female\n",
            "4    Female\n",
            "..      ...\n",
            "196  Female\n",
            "197    Male\n",
            "198    Male\n",
            "199    Male\n",
            "200    Male\n",
            "\n",
            "[201 rows x 1 columns]\n"
          ]
        }
      ]
    },
    {
      "cell_type": "markdown",
      "source": [
        "8.3 выделить числовые данные"
      ],
      "metadata": {
        "id": "5WDUzEosiuvV"
      }
    },
    {
      "cell_type": "code",
      "source": [
        "# Загрузка данных из основного CSV-файла\n",
        "df = pd.read_csv('Combined_Mall_Customers.csv')\n",
        "\n",
        "# Выделение числовых данных\n",
        "numeric_columns = df.select_dtypes(include=['float64']).columns\n",
        "\n",
        "# Вывод названий числовых столбцов\n",
        "print(\"Числовые столбцы:\", numeric_columns)\n",
        "\n",
        "# Если нужно вывести сами числовые данные\n",
        "numeric_data = df.select_dtypes(include=['float64'])\n",
        "print(\"\\nЧисловые данные:\")\n",
        "print(numeric_data)"
      ],
      "metadata": {
        "colab": {
          "base_uri": "https://localhost:8080/"
        },
        "id": "Pvle4rp-i59I",
        "outputId": "83fed763-3b52-44a2-a776-eca65d8440f6"
      },
      "execution_count": 29,
      "outputs": [
        {
          "output_type": "stream",
          "name": "stdout",
          "text": [
            "Числовые столбцы: Index([], dtype='object')\n",
            "\n",
            "Числовые данные:\n",
            "Empty DataFrame\n",
            "Columns: []\n",
            "Index: [0, 1, 2, 3, 4, 5, 6, 7, 8, 9, 10, 11, 12, 13, 14, 15, 16, 17, 18, 19, 20, 21, 22, 23, 24, 25, 26, 27, 28, 29, 30, 31, 32, 33, 34, 35, 36, 37, 38, 39, 40, 41, 42, 43, 44, 45, 46, 47, 48, 49, 50, 51, 52, 53, 54, 55, 56, 57, 58, 59, 60, 61, 62, 63, 64, 65, 66, 67, 68, 69, 70, 71, 72, 73, 74, 75, 76, 77, 78, 79, 80, 81, 82, 83, 84, 85, 86, 87, 88, 89, 90, 91, 92, 93, 94, 95, 96, 97, 98, 99, ...]\n",
            "\n",
            "[201 rows x 0 columns]\n"
          ]
        }
      ]
    },
    {
      "cell_type": "markdown",
      "source": [
        "8.4 заполнить пропущенных значений в числовых столбцах средними значениями"
      ],
      "metadata": {
        "id": "B_2XVZDdjIq8"
      }
    },
    {
      "cell_type": "code",
      "source": [
        "# Загрузка данных из основного CSV-файла\n",
        "df = pd.read_csv('Combined_Mall_Customers.csv')\n",
        "\n",
        "# Выделение числовых данных\n",
        "numeric_columns = df.select_dtypes(include=['float64']).columns\n",
        "\n",
        "# Заполнение пропущенных значений средними значениями в числовых столбцах\n",
        "df[numeric_columns] = df[numeric_columns].fillna(df[numeric_columns].mean())\n",
        "\n",
        "# Проверка, что пропущенные значения заполнены\n",
        "missing_values_count = df.isnull().sum()\n",
        "print(\"Количество пропущенных значений после заполнения:\")\n",
        "print(missing_values_count)\n",
        "\n",
        "# Вывод обновленного DataFrame\n",
        "print(\"\\nОбновленный DataFrame:\")\n",
        "print(df)"
      ],
      "metadata": {
        "colab": {
          "base_uri": "https://localhost:8080/"
        },
        "id": "46A74-AAjOcE",
        "outputId": "e1aad41d-1726-4332-8403-37519e462afe"
      },
      "execution_count": 30,
      "outputs": [
        {
          "output_type": "stream",
          "name": "stdout",
          "text": [
            "Количество пропущенных значений после заполнения:\n",
            "CustomerID                0\n",
            "Genre                     0\n",
            "Age                       0\n",
            "Annual Income (k$)        0\n",
            "Spending Score (1-100)    0\n",
            "dtype: int64\n",
            "\n",
            "Обновленный DataFrame:\n",
            "     CustomerID   Genre  Age  Annual Income (k$)  Spending Score (1-100)\n",
            "0             1    Male   19                  15                      39\n",
            "1             2    Male   21                  15                      81\n",
            "2             3  Female   20                  16                       6\n",
            "3             4  Female   23                  16                      77\n",
            "4             5  Female   31                  17                      40\n",
            "..          ...     ...  ...                 ...                     ...\n",
            "196         197  Female   45                 126                      28\n",
            "197         198    Male   32                 126                      74\n",
            "198         199    Male   32                 137                      18\n",
            "199         200    Male   30                 137                      83\n",
            "200         201    Male   17                  28                      46\n",
            "\n",
            "[201 rows x 5 columns]\n"
          ]
        }
      ]
    },
    {
      "cell_type": "markdown",
      "source": [
        "8.5 заполняем пропущенных значений в категориальных столбцах самым часто встречающимся значением"
      ],
      "metadata": {
        "id": "ZOxgwONbjvPL"
      }
    },
    {
      "cell_type": "code",
      "source": [
        "# Загрузка данных из основного CSV-файла\n",
        "df = pd.read_csv('Combined_Mall_Customers.csv')\n",
        "\n",
        "# Выделение категориальных данных\n",
        "categorical_columns = df.select_dtypes(include=['object']).columns\n",
        "\n",
        "# Заполнение пропущенных значений самым часто встречающимся значением в категориальных столбцах\n",
        "for column in categorical_columns:\n",
        "    mode_value = df[column].mode()[0]  # Получаем самое часто встречающееся значение\n",
        "    df[column] = df[column].fillna(mode_value)\n",
        "\n",
        "# Проверка, что пропущенные значения заполнены\n",
        "missing_values_count = df.isnull().sum()\n",
        "print(\"Количество пропущенных значений после заполнения:\")\n",
        "print(missing_values_count)\n",
        "\n",
        "# Вывод обновленного DataFrame\n",
        "print(\"\\nОбновленный DataFrame:\")\n",
        "print(df)"
      ],
      "metadata": {
        "colab": {
          "base_uri": "https://localhost:8080/"
        },
        "id": "NSstQBUFkHGB",
        "outputId": "ab00e106-3770-4322-f9f0-c5b96cc4d97b"
      },
      "execution_count": 31,
      "outputs": [
        {
          "output_type": "stream",
          "name": "stdout",
          "text": [
            "Количество пропущенных значений после заполнения:\n",
            "CustomerID                0\n",
            "Genre                     0\n",
            "Age                       0\n",
            "Annual Income (k$)        0\n",
            "Spending Score (1-100)    0\n",
            "dtype: int64\n",
            "\n",
            "Обновленный DataFrame:\n",
            "     CustomerID   Genre  Age  Annual Income (k$)  Spending Score (1-100)\n",
            "0             1    Male   19                  15                      39\n",
            "1             2    Male   21                  15                      81\n",
            "2             3  Female   20                  16                       6\n",
            "3             4  Female   23                  16                      77\n",
            "4             5  Female   31                  17                      40\n",
            "..          ...     ...  ...                 ...                     ...\n",
            "196         197  Female   45                 126                      28\n",
            "197         198    Male   32                 126                      74\n",
            "198         199    Male   32                 137                      18\n",
            "199         200    Male   30                 137                      83\n",
            "200         201    Male   17                  28                      46\n",
            "\n",
            "[201 rows x 5 columns]\n"
          ]
        }
      ]
    },
    {
      "cell_type": "markdown",
      "source": [
        " 9.\tДобавить в имеющуюся структуру датасета строку."
      ],
      "metadata": {
        "id": "PYJ0YM9VkQbg"
      }
    },
    {
      "cell_type": "code",
      "source": [
        "# Загрузка данных из основного CSV-файла\n",
        "df = pd.read_csv('Combined_Mall_Customers.csv')\n",
        "\n",
        "# Новая строка, которую мы хотим добавить\n",
        "new_row = ({\n",
        "    'CustomerID': '202',\n",
        "    'Genre': 'Female',\n",
        "    'Age': 19,\n",
        "    'Annual Income (k$)': 17,\n",
        "    'Spending Score (1-100)': 99\n",
        "})\n",
        "\n",
        "# Добавление новой строки в DataFrame\n",
        "df = pd.concat([df, pd.DataFrame([new_row])], ignore_index=True)\n",
        "\n",
        "# Вывод обновленного DataFrame\n",
        "print(\"\\nОбновленный DataFrame с новой строкой:\")\n",
        "print(df)"
      ],
      "metadata": {
        "colab": {
          "base_uri": "https://localhost:8080/"
        },
        "id": "U2KRv8VCkjpw",
        "outputId": "cd5702e9-7077-4fb2-e9d7-f4548ed94251"
      },
      "execution_count": 33,
      "outputs": [
        {
          "output_type": "stream",
          "name": "stdout",
          "text": [
            "\n",
            "Обновленный DataFrame с новой строкой:\n",
            "    CustomerID   Genre  Age  Annual Income (k$)  Spending Score (1-100)\n",
            "0            1    Male   19                  15                      39\n",
            "1            2    Male   21                  15                      81\n",
            "2            3  Female   20                  16                       6\n",
            "3            4  Female   23                  16                      77\n",
            "4            5  Female   31                  17                      40\n",
            "..         ...     ...  ...                 ...                     ...\n",
            "197        198    Male   32                 126                      74\n",
            "198        199    Male   32                 137                      18\n",
            "199        200    Male   30                 137                      83\n",
            "200        201    Male   17                  28                      46\n",
            "201        202  Female   19                  17                      99\n",
            "\n",
            "[202 rows x 5 columns]\n"
          ]
        }
      ]
    },
    {
      "cell_type": "markdown",
      "source": [
        "10. Создать еще одну структуру DataFrame, наполнить её произвольными данными и соединить с текущей структурой по вертикали (join)"
      ],
      "metadata": {
        "id": "Ag7bp7lUlVvk"
      }
    },
    {
      "cell_type": "code",
      "source": [
        "# Загрузка данных из основного CSV-файла\n",
        "df = pd.read_csv('Combined_Mall_Customers.csv')\n",
        "\n",
        "# Создание новой структуры DataFrame с произвольными данными\n",
        "new_data = {\n",
        "    'CustomerID': ['202'],\n",
        "    'Genre': ['Male'],\n",
        "    'Age': [16],\n",
        "    'Annual Income (k$)': [30],\n",
        "    'Spending Score (1-100)': [50]\n",
        "}\n",
        "# Преобразование словаря в DataFrame\n",
        "new_df = pd.DataFrame(new_data)\n",
        "\n",
        "# Объединение текущего DataFrame с новым DataFrame по вертикали\n",
        "combined_df = pd.concat([df, new_df], ignore_index=True)\n",
        "#Сохранение объединёного файла:\n",
        "df.to_csv('Combined_Mall_Customers1.csv', index=False)\n",
        "\n",
        "# Вывод объединенного DataFrame\n",
        "print(\"\\nОбъединенный DataFrame:\")\n",
        "print(combined_df)"
      ],
      "metadata": {
        "colab": {
          "base_uri": "https://localhost:8080/"
        },
        "id": "FUgDAX00ldBE",
        "outputId": "b57d15bc-8ee9-4038-a82b-10cfd2a8bb55"
      },
      "execution_count": 37,
      "outputs": [
        {
          "output_type": "stream",
          "name": "stdout",
          "text": [
            "\n",
            "Объединенный DataFrame:\n",
            "    CustomerID   Genre  Age  Annual Income (k$)  Spending Score (1-100)\n",
            "0            1    Male   19                  15                      39\n",
            "1            2    Male   21                  15                      81\n",
            "2            3  Female   20                  16                       6\n",
            "3            4  Female   23                  16                      77\n",
            "4            5  Female   31                  17                      40\n",
            "..         ...     ...  ...                 ...                     ...\n",
            "197        198    Male   32                 126                      74\n",
            "198        199    Male   32                 137                      18\n",
            "199        200    Male   30                 137                      83\n",
            "200        201    Male   17                  28                      46\n",
            "201        202    Male   16                  30                      50\n",
            "\n",
            "[202 rows x 5 columns]\n"
          ]
        }
      ]
    },
    {
      "cell_type": "markdown",
      "source": [
        "11. Выполнить над данными следующие статистические операции (см. табл. 3.2), отмеченные в таблице. Для числовых значений необходимо создать фрейм только для числовых значений и работать с ним."
      ],
      "metadata": {
        "id": "OaWvvWQimZHk"
      }
    },
    {
      "cell_type": "code",
      "source": [
        "import pandas as pd\n",
        "\n",
        "# Загрузка данных из основного CSV-файла\n",
        "df = pd.read_csv('Combined_Mall_Customers1.csv')\n",
        "\n",
        "# Создание новой структуры DataFrame с произвольными данными\n",
        "new_data = {\n",
        "    'CustomerID': ['202'],\n",
        "    'Genre': ['Male'],\n",
        "    'Age': [16],\n",
        "    'Annual Income (k$)': [30],\n",
        "    'Spending Score (1-100)': [50]\n",
        "}\n",
        "\n",
        "# Преобразование словаря в DataFrame\n",
        "new_df = pd.DataFrame(new_data)\n",
        "\n",
        "# Объединение текущего DataFrame с новым DataFrame по вертикали\n",
        "combined_df = pd.concat([df, new_df], ignore_index=True)\n",
        "\n",
        "# Вывод объединенного DataFrame\n",
        "print(\"\\nОбъединенный DataFrame:\")\n",
        "print(combined_df)\n",
        "\n",
        "# Создание фрейма только для числовых значений\n",
        "numeric_df = combined_df.select_dtypes(include=['number'])\n",
        "\n",
        "# Проверка, что numeric_df не пустой\n",
        "if not numeric_df.empty:\n",
        "    # Вывод сводной информации по статистикам\n",
        "    print(\"\\nСводная информация по статистикам:\")\n",
        "    print(numeric_df.describe())\n",
        "\n",
        "    # Выполнение статистических операций и вывод результатов\n",
        "    print(\"\\nСтатистические операции:\")\n",
        "    print(\"Количество объектов (count):\\n\", numeric_df.count())\n",
        "    print(\"\\nСумма (sum):\\n\", numeric_df.sum())\n",
        "    print(\"\\nСреднее значение (mean):\\n\", numeric_df.mean())\n",
        "    # Исправлено: замена mad\n",
        "    mean_abs_deviation = (numeric_df - numeric_df.mean()).abs().mean()\n",
        "    print(\"\\nСреднее абсолютное отклонение (mad):\\n\", mean_abs_deviation)\n",
        "    print(\"\\nМедиана (median):\\n\", numeric_df.median())\n",
        "    print(\"\\nМинимум (min):\\n\", numeric_df.min())\n",
        "    print(\"\\nМаксимум (max):\\n\", numeric_df.max())\n",
        "    print(\"\\nМода (mode):\\n\", numeric_df.mode().iloc[0])  # Вывод первого значения моды\n",
        "    print(\"\\nАбсолютное значение (abs):\\n\", numeric_df.abs().head())  # Вывод первых 5 строк\n",
        "    print(\"\\nСтандартное отклонение (std):\\n\", numeric_df.std())\n",
        "    print(\"\\nКвантиль (25%):\\n\", numeric_df.quantile(0.25))\n",
        "    print(\"\\nКвантиль (50%):\\n\", numeric_df.quantile(0.50))\n",
        "    print(\"\\nКвантиль (75%):\\n\", numeric_df.quantile(0.75))\n",
        "else:\n",
        "    print(\"\\nВ DataFrame нет числовых столбцов.\")"
      ],
      "metadata": {
        "colab": {
          "base_uri": "https://localhost:8080/"
        },
        "id": "tJpkWOFuoll_",
        "outputId": "da641613-d29b-47fe-ffde-9744e0c62cb5"
      },
      "execution_count": 40,
      "outputs": [
        {
          "output_type": "stream",
          "name": "stdout",
          "text": [
            "\n",
            "Объединенный DataFrame:\n",
            "    CustomerID   Genre  Age  Annual Income (k$)  Spending Score (1-100)\n",
            "0            1    Male   19                  15                      39\n",
            "1            2    Male   21                  15                      81\n",
            "2            3  Female   20                  16                       6\n",
            "3            4  Female   23                  16                      77\n",
            "4            5  Female   31                  17                      40\n",
            "..         ...     ...  ...                 ...                     ...\n",
            "197        198    Male   32                 126                      74\n",
            "198        199    Male   32                 137                      18\n",
            "199        200    Male   30                 137                      83\n",
            "200        201    Male   17                  28                      46\n",
            "201        202    Male   16                  30                      50\n",
            "\n",
            "[202 rows x 5 columns]\n",
            "\n",
            "Сводная информация по статистикам:\n",
            "              Age  Annual Income (k$)  Spending Score (1-100)\n",
            "count  202.000000          202.000000              202.000000\n",
            "mean    38.628713           60.247525               50.178218\n",
            "std     14.075340           26.320983               25.696428\n",
            "min     16.000000           15.000000                1.000000\n",
            "25%     28.000000           40.000000               35.000000\n",
            "50%     36.000000           61.000000               50.000000\n",
            "75%     49.000000           78.000000               72.750000\n",
            "max     70.000000          137.000000               99.000000\n",
            "\n",
            "Статистические операции:\n",
            "Количество объектов (count):\n",
            " Age                       202\n",
            "Annual Income (k$)        202\n",
            "Spending Score (1-100)    202\n",
            "dtype: int64\n",
            "\n",
            "Сумма (sum):\n",
            " Age                        7803\n",
            "Annual Income (k$)        12170\n",
            "Spending Score (1-100)    10136\n",
            "dtype: int64\n",
            "\n",
            "Среднее значение (mean):\n",
            " Age                       38.628713\n",
            "Annual Income (k$)        60.247525\n",
            "Spending Score (1-100)    50.178218\n",
            "dtype: float64\n",
            "\n",
            "Среднее абсолютное отклонение (mad):\n",
            " Age                       11.735663\n",
            "Annual Income (k$)        21.116361\n",
            "Spending Score (1-100)    20.640721\n",
            "dtype: float64\n",
            "\n",
            "Медиана (median):\n",
            " Age                       36.0\n",
            "Annual Income (k$)        61.0\n",
            "Spending Score (1-100)    50.0\n",
            "dtype: float64\n",
            "\n",
            "Минимум (min):\n",
            " Age                       16\n",
            "Annual Income (k$)        15\n",
            "Spending Score (1-100)     1\n",
            "dtype: int64\n",
            "\n",
            "Максимум (max):\n",
            " Age                        70\n",
            "Annual Income (k$)        137\n",
            "Spending Score (1-100)     99\n",
            "dtype: int64\n",
            "\n",
            "Мода (mode):\n",
            " Age                       32.0\n",
            "Annual Income (k$)        54.0\n",
            "Spending Score (1-100)    42.0\n",
            "Name: 0, dtype: float64\n",
            "\n",
            "Абсолютное значение (abs):\n",
            "    Age  Annual Income (k$)  Spending Score (1-100)\n",
            "0   19                  15                      39\n",
            "1   21                  15                      81\n",
            "2   20                  16                       6\n",
            "3   23                  16                      77\n",
            "4   31                  17                      40\n",
            "\n",
            "Стандартное отклонение (std):\n",
            " Age                       14.075340\n",
            "Annual Income (k$)        26.320983\n",
            "Spending Score (1-100)    25.696428\n",
            "dtype: float64\n",
            "\n",
            "Квантиль (25%):\n",
            " Age                       28.0\n",
            "Annual Income (k$)        40.0\n",
            "Spending Score (1-100)    35.0\n",
            "Name: 0.25, dtype: float64\n",
            "\n",
            "Квантиль (50%):\n",
            " Age                       36.0\n",
            "Annual Income (k$)        61.0\n",
            "Spending Score (1-100)    50.0\n",
            "Name: 0.5, dtype: float64\n",
            "\n",
            "Квантиль (75%):\n",
            " Age                       49.00\n",
            "Annual Income (k$)        78.00\n",
            "Spending Score (1-100)    72.75\n",
            "Name: 0.75, dtype: float64\n"
          ]
        }
      ]
    },
    {
      "cell_type": "markdown",
      "source": [
        "13. \tВывести описательную статистику всех категориальных переменных (при наличии)."
      ],
      "metadata": {
        "id": "6ZQDlu-vpqo9"
      }
    },
    {
      "cell_type": "code",
      "source": [
        "import pandas as pd\n",
        "\n",
        "# Загрузка данных из основного CSV-файла\n",
        "df = pd.read_csv('Combined_Mall_Customers1.csv')\n",
        "\n",
        "# Вывод описательной статистики для категориальных переменных\n",
        "categorical_stats = combined_df.describe(include=['object'])\n",
        "print(\"\\nОписательная статистика для категориальных переменных:\")\n",
        "print(categorical_stats)"
      ],
      "metadata": {
        "colab": {
          "base_uri": "https://localhost:8080/"
        },
        "id": "dVHCauELp497",
        "outputId": "b0ed3b2a-014a-477b-dc8c-8f6f8ee91e17"
      },
      "execution_count": 41,
      "outputs": [
        {
          "output_type": "stream",
          "name": "stdout",
          "text": [
            "\n",
            "Описательная статистика для категориальных переменных:\n",
            "        CustomerID   Genre\n",
            "count          202     202\n",
            "unique         202       2\n",
            "top              1  Female\n",
            "freq             1     112\n"
          ]
        }
      ]
    },
    {
      "cell_type": "markdown",
      "source": [
        "14.\tНа основе данных таблицы построить гистограммы для подходящих числовых значений."
      ],
      "metadata": {
        "id": "3L7P6WrdqCY0"
      }
    },
    {
      "cell_type": "code",
      "source": [
        "import matplotlib.pyplot as plt\n",
        "# Загрузка данных из основного CSV-файла\n",
        "df = pd.read_csv('Combined_Mall_Customers.csv')\n",
        "# Построение гистограмм для числовых столбцов\n",
        "for column in numeric_df.columns:\n",
        "    plt.figure(figsize=(8, 6))\n",
        "    plt.hist(numeric_df[column], bins=20, edgecolor='black')\n",
        "    plt.title(f'Гистограмма для {column}')\n",
        "    plt.xlabel(column)\n",
        "    plt.ylabel('Частота')\n",
        "    plt.grid(True)\n",
        "    plt.show()"
      ],
      "metadata": {
        "colab": {
          "base_uri": "https://localhost:8080/",
          "height": 1000
        },
        "id": "Gt5Y-bw4qM9F",
        "outputId": "56f00178-88b9-4256-845b-590528492207"
      },
      "execution_count": 43,
      "outputs": [
        {
          "output_type": "display_data",
          "data": {
            "text/plain": [
              "<Figure size 800x600 with 1 Axes>"
            ],
            "image/png": "[encoded data removed]"
          },
          "metadata": {}
        },
        {
          "output_type": "display_data",
          "data": {
            "text/plain": [
              "<Figure size 800x600 with 1 Axes>"
            ],
            "image/png": "[encoded data removed]"
          },
          "metadata": {}
        },
        {
          "output_type": "display_data",
          "data": {
            "text/plain": [
              "<Figure size 800x600 with 1 Axes>"
            ],
            "image/png": "[encoded data removed]"
          },
          "metadata": {}
        }
      ]
    }
  ]
}